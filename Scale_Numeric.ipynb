{
 "cells": [
  {
   "cell_type": "code",
   "execution_count": 4,
   "metadata": {},
   "outputs": [
    {
     "name": "stdout",
     "output_type": "stream",
     "text": [
      "    sepal length  sepal width  petal length  petal width        class\n",
      "0            5.1          3.5           1.4          0.2  Iris-setosa\n",
      "1            4.9          3.0           1.4          0.2  Iris-setosa\n",
      "2            4.7          3.2           1.3          0.2  Iris-setosa\n",
      "3            4.6          3.1           1.5          0.2  Iris-setosa\n",
      "4            5.0          3.6           1.4          0.2  Iris-setosa\n",
      "5            5.4          3.9           1.7          0.4  Iris-setosa\n",
      "6            4.6          3.4           1.4          0.3  Iris-setosa\n",
      "7            5.0          3.4           1.5          0.2  Iris-setosa\n",
      "8            4.4          2.9           1.4          0.2  Iris-setosa\n",
      "9            4.9          3.1           1.5          0.1  Iris-setosa\n",
      "10           5.4          3.7           1.5          0.2  Iris-setosa\n",
      "11           4.8          3.4           1.6          0.2  Iris-setosa\n",
      "12           4.8          3.0           1.4          0.1  Iris-setosa\n",
      "13           4.3          3.0           1.1          0.1  Iris-setosa\n",
      "14           5.8          4.0           1.2          0.2  Iris-setosa\n",
      "15           5.7          4.4           1.5          0.4  Iris-setosa\n",
      "16           5.4          3.9           1.3          0.4  Iris-setosa\n",
      "17           5.1          3.5           1.4          0.3  Iris-setosa\n",
      "18           5.7          3.8           1.7          0.3  Iris-setosa\n",
      "19           5.1          3.8           1.5          0.3  Iris-setosa\n",
      "(150, 5)\n"
     ]
    }
   ],
   "source": [
    "import pandas as pd\n",
    "\n",
    "data = pd.read_csv('data/iris.csv', header=None)\n",
    "data.columns = ['sepal length', 'sepal width', 'petal length', 'petal width', 'class']\n",
    "print (data.head(20))\n",
    "print (data.shape)"
   ]
  },
  {
   "cell_type": "code",
   "execution_count": 12,
   "metadata": {},
   "outputs": [],
   "source": [
    "# predefined bins: \n",
    "# bin 1: greater than four and less than or equal to five,\n",
    "# bin 2: greater than five and less than or equal to six\n",
    "\n",
    "bin = [4,5,6]\n",
    "category = pd.cut(data['sepal length'], bin, labels = ['four','five'])\n",
    "category = category.to_frame()\n",
    "category.columns = ['sepal range']\n",
    "new_data = pd.concat([data, category], axis = 1)"
   ]
  },
  {
   "cell_type": "code",
   "execution_count": 13,
   "metadata": {},
   "outputs": [
    {
     "name": "stdout",
     "output_type": "stream",
     "text": [
      "    sepal length  sepal width  petal length  petal width        class  \\\n",
      "0            5.1          3.5           1.4          0.2  Iris-setosa   \n",
      "1            4.9          3.0           1.4          0.2  Iris-setosa   \n",
      "2            4.7          3.2           1.3          0.2  Iris-setosa   \n",
      "3            4.6          3.1           1.5          0.2  Iris-setosa   \n",
      "4            5.0          3.6           1.4          0.2  Iris-setosa   \n",
      "5            5.4          3.9           1.7          0.4  Iris-setosa   \n",
      "6            4.6          3.4           1.4          0.3  Iris-setosa   \n",
      "7            5.0          3.4           1.5          0.2  Iris-setosa   \n",
      "8            4.4          2.9           1.4          0.2  Iris-setosa   \n",
      "9            4.9          3.1           1.5          0.1  Iris-setosa   \n",
      "10           5.4          3.7           1.5          0.2  Iris-setosa   \n",
      "11           4.8          3.4           1.6          0.2  Iris-setosa   \n",
      "12           4.8          3.0           1.4          0.1  Iris-setosa   \n",
      "13           4.3          3.0           1.1          0.1  Iris-setosa   \n",
      "14           5.8          4.0           1.2          0.2  Iris-setosa   \n",
      "15           5.7          4.4           1.5          0.4  Iris-setosa   \n",
      "16           5.4          3.9           1.3          0.4  Iris-setosa   \n",
      "17           5.1          3.5           1.4          0.3  Iris-setosa   \n",
      "18           5.7          3.8           1.7          0.3  Iris-setosa   \n",
      "19           5.1          3.8           1.5          0.3  Iris-setosa   \n",
      "\n",
      "   sepal range  \n",
      "0         five  \n",
      "1         four  \n",
      "2         four  \n",
      "3         four  \n",
      "4         four  \n",
      "5         five  \n",
      "6         four  \n",
      "7         four  \n",
      "8         four  \n",
      "9         four  \n",
      "10        five  \n",
      "11        four  \n",
      "12        four  \n",
      "13        four  \n",
      "14        five  \n",
      "15        five  \n",
      "16        five  \n",
      "17        five  \n",
      "18        five  \n",
      "19        five  \n",
      "(150, 6)\n"
     ]
    }
   ],
   "source": [
    "print (new_data.head(20))\n",
    "print (new_data.shape)"
   ]
  }
 ],
 "metadata": {
  "kernelspec": {
   "display_name": "Python 3",
   "language": "python",
   "name": "python3"
  },
  "language_info": {
   "codemirror_mode": {
    "name": "ipython",
    "version": 3
   },
   "file_extension": ".py",
   "mimetype": "text/x-python",
   "name": "python",
   "nbconvert_exporter": "python",
   "pygments_lexer": "ipython3",
   "version": "3.7.1"
  }
 },
 "nbformat": 4,
 "nbformat_minor": 2
}
