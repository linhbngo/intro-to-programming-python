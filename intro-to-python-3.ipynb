{
 "cells": [
  {
   "cell_type": "markdown",
   "metadata": {},
   "source": [
    "### True Learning Objectives\n",
    "\n",
    "- How can I process data in Python"
   ]
  },
  {
   "cell_type": "markdown",
   "metadata": {},
   "source": [
    "#### How do I explore data elements in a DataFrame"
   ]
  },
  {
   "cell_type": "markdown",
   "metadata": {},
   "source": [
    "With Pandas, we are able to load data into an Excel-like data structure called **DataFrame**. In Excel, we have the ability to simplify repetitive actions through the combination of Ctrl-C and mouse drag to have a single equation applied to multiple rows, using the correct cells in each row for calculation. \n",
    "\n",
    "In Python, and in any other languages, this repeating action can be performed using **loop**. In other literature, it might also be called **iteration**. "
   ]
  },
  {
   "cell_type": "markdown",
   "metadata": {},
   "source": [
    "Let's start by looking at our data. This is the famous Iris flower data set that has been used to demonstrate many data mining/machine learning techniques. "
   ]
  },
  {
   "cell_type": "code",
   "execution_count": null,
   "metadata": {},
   "outputs": [],
   "source": [
    "import pandas\n",
    "\n",
    "data = pandas.read_csv('data/iris.csv', header=None)\n",
    "print (data.head())\n",
    "print (data.shape)"
   ]
  },
  {
   "cell_type": "markdown",
   "metadata": {},
   "source": [
    "The `print` function allows us to print out the output of the `data.head()` function. In the previous lecture, we used `data.head()` directly. This works in a exploratory mode, but in a full-fledge program, to echo output to screen, we need to use the `print` function. \n",
    "\n",
    "The data set contains no header (hence the default headers 0, 1, 2, 3, 4), but we know that the columns are arranged as followed: sepal length in cm, sepal width in cm, petal length in cm, petal width in cm, and iris class (Iris setora, Iris Versicolour, and Iris Virginica). We need to first set the headers for our DataFrame:"
   ]
  },
  {
   "cell_type": "code",
   "execution_count": null,
   "metadata": {},
   "outputs": [],
   "source": [
    "data.columns = ['sepal length', 'sepal width', 'petal length', 'petal width', 'class']\n",
    "print (data.head())"
   ]
  },
  {
   "cell_type": "markdown",
   "metadata": {},
   "source": [
    "We can print out the sepal length, sepal width, petal length, and petal width for each record using column names and row indices:"
   ]
  },
  {
   "cell_type": "code",
   "execution_count": null,
   "metadata": {},
   "outputs": [],
   "source": [
    "# At row 0\n",
    "print (data['sepal length'][0])"
   ]
  },
  {
   "cell_type": "markdown",
   "metadata": {},
   "source": [
    "We can also print out this information in a nicer format:"
   ]
  },
  {
   "cell_type": "code",
   "execution_count": null,
   "metadata": {},
   "outputs": [],
   "source": [
    "print ('Sepal length for record', 0, 'is:', data['sepal length'][0])"
   ]
  },
  {
   "cell_type": "markdown",
   "metadata": {},
   "source": [
    "How can we do it for five records?"
   ]
  },
  {
   "cell_type": "code",
   "execution_count": null,
   "metadata": {},
   "outputs": [],
   "source": [
    "print ('Sepal length for record', 0, 'is:', data['sepal length'][0])\n",
    "print ('Sepal length for record', 1, 'is:', data['sepal length'][1])\n",
    "print ('Sepal length for record', 2, 'is:', data['sepal length'][2])\n",
    "print ('Sepal length for record', 3, 'is:', data['sepal length'][3])\n",
    "print ('Sepal length for record', 4, 'is:', data['sepal length'][4])"
   ]
  },
  {
   "cell_type": "markdown",
   "metadata": {},
   "source": [
    "The above approach does not work if we want to do it for 20, 50, 100 records. To do this, we need to use a **loop**. "
   ]
  },
  {
   "cell_type": "markdown",
   "metadata": {},
   "source": [
    "A **loop** allows you to specify the number of repetition. "
   ]
  },
  {
   "cell_type": "code",
   "execution_count": null,
   "metadata": {},
   "outputs": [],
   "source": [
    "for i in range(0,5):\n",
    "    print ('Sepal length for record', i, 'is:', data['sepal length'][i])    "
   ]
  },
  {
   "cell_type": "markdown",
   "metadata": {},
   "source": [
    "What does `range` do?"
   ]
  },
  {
   "cell_type": "code",
   "execution_count": null,
   "metadata": {},
   "outputs": [],
   "source": [
    "for i in range(0,5):\n",
    "    print (i)\n",
    "    print ('Sepal length for record', i, 'is:', data['sepal length'][i])"
   ]
  },
  {
   "cell_type": "markdown",
   "metadata": {},
   "source": [
    "### Data Operation\n",
    "\n",
    "We want to find the Euclidean Distance between two records in the Iris data set"
   ]
  },
  {
   "cell_type": "code",
   "execution_count": null,
   "metadata": {},
   "outputs": [],
   "source": [
    "point_data = {'point': ['p1','p2','p3','p4'],\n",
    "              'x': [0,2,3,4],\n",
    "              'y': [2,0,1,1]}  "
   ]
  },
  {
   "cell_type": "code",
   "execution_count": null,
   "metadata": {},
   "outputs": [],
   "source": [
    "import math\n",
    "\n",
    "for i in range(0,4):\n",
    "    for j in range(0,4):\n",
    "        d = math.sqrt(math.pow(point_data['x'][i] - point_data['x'][j],2) + \n",
    "                      math.pow(point_data['y'][i] - point_data['y'][j],2))\n",
    "        print ('Distance between', point_data['point'][i], 'and', point_data['point'][j], 'is', d)"
   ]
  },
  {
   "cell_type": "markdown",
   "metadata": {},
   "source": [
    "How Python's community helps to make this better ...\n",
    "\n",
    "Library **SciPy** (https://www.scipy.org/): SciPy is a free and open-source Python library used for scientific computing and technical computing. SciPy contains modules for optimization, linear algebra, integration, interpolation, special functions, FFT, signal and image processing, ODE solvers and other tasks common in science and engineering.\n",
    "\n",
    "We will be using functions `squareform` and `pdist`: https://docs.scipy.org/doc/scipy/reference/spatial.distance.html "
   ]
  },
  {
   "cell_type": "markdown",
   "metadata": {},
   "source": [
    "**Euclidean Distance (slide 5)**"
   ]
  },
  {
   "cell_type": "code",
   "execution_count": null,
   "metadata": {},
   "outputs": [],
   "source": [
    "from scipy.spatial.distance import squareform, pdist\n",
    "\n",
    "df = pandas.DataFrame(point_data)\n",
    "print(df)\n",
    "pandas.DataFrame(squareform(pdist(df.iloc[:, 1:], metric='euclidean')),\n",
    "                 columns=df.point.unique(), \n",
    "                 index=df.point.unique())"
   ]
  },
  {
   "cell_type": "markdown",
   "metadata": {},
   "source": [
    "## Question 1:\n",
    "Modify the code below so that it calculates the pairwise distance of the point DataFrame using City block distance. \n",
    "*Hint: Visit the spatial distance documentation page above to find the correct metric name for City block*"
   ]
  },
  {
   "cell_type": "code",
   "execution_count": null,
   "metadata": {
    "scrolled": true
   },
   "outputs": [],
   "source": [
    "pandas.DataFrame(squareform(pdist(df.iloc[:, 1:], metric='______')),\n",
    "                 columns=df.point.unique(), \n",
    "                 index=df.point.unique())"
   ]
  },
  {
   "cell_type": "markdown",
   "metadata": {},
   "source": [
    "**Mahalanobis Distance (slide 10)**"
   ]
  },
  {
   "cell_type": "markdown",
   "metadata": {},
   "source": [
    "Yet another supporting package:\n",
    "\n",
    "**NumPy** (www.numpy.org): NumPy is a library for the Python programming language, adding support for large, multi-dimensional arrays and matrices, along with a large collection of high-level mathematical functions to operate on these arrays. (slide 1"
   ]
  },
  {
   "cell_type": "code",
   "execution_count": null,
   "metadata": {},
   "outputs": [],
   "source": [
    "import numpy as np\n",
    "\n",
    "cov_mat = np.matrix([[0.3,0.2],[0.2,0.3]])\n",
    "print(cov_mat)\n",
    "A = np.matrix([[0.5],[0.5]])\n",
    "B = np.matrix([[0],[1]])\n",
    "C = np.matrix([1.5,1.5])\n",
    "\n",
    "A_B = (A - B).T * cov_mat.I * (A - B)\n",
    "print(A_B)"
   ]
  },
  {
   "cell_type": "markdown",
   "metadata": {},
   "source": [
    "## Question 2:\n",
    "Modify the code cell below to find the mahalanobis distance between point A and C (A_C) from the above code cell, and then print out the result. "
   ]
  },
  {
   "cell_type": "code",
   "execution_count": null,
   "metadata": {},
   "outputs": [],
   "source": [
    "A_C = _________________________\n",
    "print(___)"
   ]
  },
  {
   "cell_type": "markdown",
   "metadata": {},
   "source": [
    "**Similarity measuremments (slide 14)**\n",
    "Given the two binary vectors, identify points of similarity: (slide 14)"
   ]
  },
  {
   "cell_type": "code",
   "execution_count": null,
   "metadata": {},
   "outputs": [],
   "source": [
    "x = [1,0,0,0,0,0,0,0,0,0]\n",
    "y = [0,0,0,0,0,0,1,0,0,1]"
   ]
  },
  {
   "cell_type": "markdown",
   "metadata": {},
   "source": [
    "This is where we have the concept of conditional statements `if ... elif ... else ...` (elif = else if)"
   ]
  },
  {
   "cell_type": "code",
   "execution_count": null,
   "metadata": {},
   "outputs": [],
   "source": [
    "f01 = 0\n",
    "f10 = 0\n",
    "f00 = 0\n",
    "f11 = 0\n",
    "\n",
    "for i in range(0,10):\n",
    "    if x[i] == 0 and y[i] == 1:\n",
    "        f01 = f01 + 1\n",
    "    elif x[i] == 1 and y[i] == 0:\n",
    "        f10 = f10 + 1\n",
    "    elif x[i] == 0 and y[i] == 0:\n",
    "        f00 = f00 + 1\n",
    "    else:\n",
    "        f11 = f11 + 1\n",
    "        \n",
    "print (f01, f10, f00, f11)\n",
    "            "
   ]
  },
  {
   "cell_type": "markdown",
   "metadata": {},
   "source": [
    "## Question 3:\n",
    "\n",
    "Based on the above similarity measurements, write the Python code to calculate Simple Matching and Jaccard Coefficients"
   ]
  },
  {
   "cell_type": "code",
   "execution_count": null,
   "metadata": {},
   "outputs": [],
   "source": [
    "SMC = ( + ) / ( + + + )\n",
    "print (SMC)\n",
    "\n",
    "J = \n",
    "print (J)"
   ]
  },
  {
   "cell_type": "markdown",
   "metadata": {},
   "source": [
    "## Question 4:\n",
    "\n",
    "Using information on vector d1 and d2 in slide 15, complete the following code cell to calculate cosine similarity"
   ]
  },
  {
   "cell_type": "code",
   "execution_count": null,
   "metadata": {},
   "outputs": [],
   "source": [
    "import math \n",
    "\n",
    "d1 = \n",
    "d2 = \n",
    "\n",
    "# calculate inner product. Hint: use a loop\n",
    "inner_product = 0\n",
    "\n",
    "for i in range ():\n",
    "    inner_product = inner_product + \n",
    "    \n",
    "# calculate length of d1. Also use a loop\n",
    "d1_len = 0\n",
    "\n",
    "# calculate length of d2. \n",
    "\n",
    "\n",
    "# calculate cosine similarity\n",
    "\n",
    "cosine_d1_d2 = inner_product / (d1_len * d2_len)\n",
    "print (cosine_d1_d2)"
   ]
  }
 ],
 "metadata": {
  "kernelspec": {
   "display_name": "Python 3",
   "language": "python",
   "name": "python3"
  },
  "language_info": {
   "codemirror_mode": {
    "name": "ipython",
    "version": 3
   },
   "file_extension": ".py",
   "mimetype": "text/x-python",
   "name": "python",
   "nbconvert_exporter": "python",
   "pygments_lexer": "ipython3",
   "version": "3.7.1"
  }
 },
 "nbformat": 4,
 "nbformat_minor": 2
}
