{
 "cells": [
  {
   "cell_type": "markdown",
   "metadata": {},
   "source": [
    "### True Learning Objectives\n",
    "\n",
    "- How can I process data in Python"
   ]
  },
  {
   "cell_type": "markdown",
   "metadata": {},
   "source": [
    "#### Decision Tree"
   ]
  },
  {
   "cell_type": "markdown",
   "metadata": {},
   "source": [
    "The book has all the theoretical parts down. How do we work on decision tree in applied scenarios?\n",
    "\n",
    "Another library from Python: **scikit-learn**:\n",
    "- Free machine learning library for Python.\n",
    "- Implements various algorithms for classification, regression, and clustering.\n",
    "- Convenient and easy to use. \n",
    "- A list of all current available algorithms can be found at https://scikit-learn.org/stable/user_guide.html"
   ]
  },
  {
   "cell_type": "markdown",
   "metadata": {},
   "source": [
    "Let's start by looking at our data. "
   ]
  },
  {
   "cell_type": "code",
   "execution_count": null,
   "metadata": {},
   "outputs": [],
   "source": [
    "from sklearn import tree\n",
    "import pandas as pd"
   ]
  },
  {
   "cell_type": "code",
   "execution_count": null,
   "metadata": {},
   "outputs": [],
   "source": [
    "data =  {'Home Owner': pd.Series(['Yes','No','No','Yes','No','No','Yes','No','No','No'], \n",
    "                                 index=['1', '2', '3','4','5','6','7','8','9','10']),\n",
    "         'Marital Status': pd.Series(['Single','Married','Single','Married','Divorced','Married',\n",
    "                                      'Divorced','Single','Married','Single'], \n",
    "                                     index=['1', '2', '3','4','5','6','7','8','9','10']),\n",
    "         'Annual Income': pd.Series([125,100,70,120,95,60,220,85,75,90],\n",
    "                                   index=['1', '2', '3','4','5','6','7','8','9','10']),\n",
    "         'Defaulted Borrower': pd.Series(['No','No','No','No','Yes','No','No','Yes','No','Yes'], \n",
    "                                 index=['1', '2', '3','4','5','6','7','8','9','10']) }\n",
    "\n",
    "df = pd.DataFrame(data)\n",
    "print (df)"
   ]
  },
  {
   "cell_type": "markdown",
   "metadata": {},
   "source": [
    "In this case, we want to make a decision tree for the `Defaulted Borrower` column. Therefore, we will split the DataFrame into two, X representing the attributes (features), and Y representing the corresponding labels. "
   ]
  },
  {
   "cell_type": "code",
   "execution_count": null,
   "metadata": {},
   "outputs": [],
   "source": [
    "X = df.drop('Defaulted Borrower', axis=1)  \n",
    "y = df['Defaulted Borrower']\n",
    "\n",
    "print (X)\n",
    "print (y)"
   ]
  },
  {
   "cell_type": "markdown",
   "metadata": {},
   "source": [
    "**Scikit-learn** provides you with a number of tools to help make your work easier. Here, `train_test_split` is one such tool, which allows you to generate a random split of your using a predefined ratio of 20%"
   ]
  },
  {
   "cell_type": "code",
   "execution_count": null,
   "metadata": {},
   "outputs": [],
   "source": [
    "from sklearn.model_selection import train_test_split  \n",
    "X_train, X_test, y_train, y_test = train_test_split(X, y, test_size=0.20)  "
   ]
  },
  {
   "cell_type": "code",
   "execution_count": null,
   "metadata": {},
   "outputs": [],
   "source": [
    "print(X_train)"
   ]
  },
  {
   "cell_type": "code",
   "execution_count": null,
   "metadata": {},
   "outputs": [],
   "source": [
    "print(X_test)"
   ]
  },
  {
   "cell_type": "code",
   "execution_count": null,
   "metadata": {},
   "outputs": [],
   "source": [
    "print (y_train)"
   ]
  },
  {
   "cell_type": "code",
   "execution_count": null,
   "metadata": {},
   "outputs": [],
   "source": [
    "print (y_test)"
   ]
  },
  {
   "cell_type": "markdown",
   "metadata": {},
   "source": [
    "In the code below, we first create a Python `DecisionTreeClassifier` object, then apply the `fit` function of that object on our training data. "
   ]
  },
  {
   "cell_type": "code",
   "execution_count": null,
   "metadata": {},
   "outputs": [],
   "source": [
    "clf = tree.DecisionTreeClassifier()\n",
    "clf.fit(X_train, y_train)"
   ]
  },
  {
   "cell_type": "markdown",
   "metadata": {},
   "source": [
    "Oops, what happens?\n",
    "\n",
    "It turns out that there is limitation to **scikit-learn** that it only supports numerical data. Does this mean that it does not work for us? Fortunately, we can preprocess the data to convert the text-based categorical columns to numeric. \n",
    "\n",
    "For column `Home Owner`, let's set `Yes` to be 1, and `No` to be 0. \n",
    "For column `Marital Status`, let's set `Married` to be 3, `Single` to be 2, and `Divorced` to be 1. "
   ]
  },
  {
   "cell_type": "code",
   "execution_count": null,
   "metadata": {},
   "outputs": [],
   "source": [
    "col_Home = pd.Series(range(0,10), index = ['1', '2', '3','4','5','6','7','8','9','10'])\n",
    "col_Married = pd.Series(range(0,10), index = ['1', '2', '3','4','5','6','7','8','9','10'])"
   ]
  },
  {
   "cell_type": "code",
   "execution_count": null,
   "metadata": {},
   "outputs": [],
   "source": [
    "for i in range(0,10):\n",
    "    if (X['Home Owner'][i] == 'Yes'):\n",
    "        col_Home[i] = 1;\n",
    "    else:\n",
    "        col_Home[i] = 0;\n",
    "print (col_Home)"
   ]
  },
  {
   "cell_type": "code",
   "execution_count": null,
   "metadata": {},
   "outputs": [],
   "source": [
    "for i in range(0,10):\n",
    "    if (X['Marital Status'][i] == 'Married'):\n",
    "        col_Married[i] = 3;\n",
    "    elif (X['Marital Status'][i] == 'Single'):\n",
    "        col_Married[i] = 2;\n",
    "    else:\n",
    "        col_Married[i] = 1;\n",
    "print (col_Married)"
   ]
  },
  {
   "cell_type": "markdown",
   "metadata": {},
   "source": [
    "We can replace the `Home Owner` and `Marital Status` columns with their corresponding numerical conversion. "
   ]
  },
  {
   "cell_type": "code",
   "execution_count": null,
   "metadata": {},
   "outputs": [],
   "source": [
    "X_enc = pd.concat((X.drop(['Home Owner', 'Marital Status'], axis = 1), \n",
    "                   col_Home.rename('Home Owner'),\n",
    "                   col_Married.rename('Marital Status')), axis = 1)\n",
    "print(X_enc)"
   ]
  },
  {
   "cell_type": "code",
   "execution_count": null,
   "metadata": {},
   "outputs": [],
   "source": [
    "X_train, X_test, y_train, y_test = train_test_split(X_enc, y, test_size=0.2)  \n",
    "clf = tree.DecisionTreeClassifier()\n",
    "clf.fit(X_train, y_train)"
   ]
  },
  {
   "cell_type": "code",
   "execution_count": null,
   "metadata": {},
   "outputs": [],
   "source": [
    "y_pred = clf.predict(X_test)  \n",
    "print (y_pred)\n",
    "print (y_test)"
   ]
  },
  {
   "cell_type": "markdown",
   "metadata": {},
   "source": [
    "To install graphviz, open the Anaconda Prompt inside Anaconda's Startup Menu, then run\n",
    "\n",
    "```\n",
    "$ conda install -c anaconda python-graphviz\n",
    "```"
   ]
  },
  {
   "cell_type": "code",
   "execution_count": null,
   "metadata": {},
   "outputs": [],
   "source": [
    "import graphviz \n",
    "dot_data = tree.export_graphviz(clf, out_file=None,\n",
    "                                feature_names=X_enc.columns.values,  \n",
    "                                class_names=['Yes','No'],  \n",
    "                                filled=True, rounded=True,  \n",
    "                                special_characters=True)\n",
    "graph = graphviz.Source(dot_data) \n",
    "graph"
   ]
  },
  {
   "cell_type": "markdown",
   "metadata": {},
   "source": [
    "The example above does not reflect a true automated decision tree construction, as there are too few observations in the data set. Let's look at the Iris data set again. "
   ]
  },
  {
   "cell_type": "code",
   "execution_count": null,
   "metadata": {},
   "outputs": [],
   "source": [
    "df = pd.read_csv('data/iris.csv', header=None)\n",
    "df.columns = ['sepal length', 'sepal width', 'petal length', 'petal width', 'class']\n",
    "print (df.head())\n",
    "print (df.shape)"
   ]
  },
  {
   "cell_type": "code",
   "execution_count": null,
   "metadata": {},
   "outputs": [],
   "source": [
    "X = df.drop('class', axis=1)  \n",
    "y = df['class']\n",
    "\n",
    "print (X.head())\n",
    "print (y.head())"
   ]
  },
  {
   "cell_type": "code",
   "execution_count": null,
   "metadata": {},
   "outputs": [],
   "source": [
    "X_train, X_test, y_train, y_test = train_test_split(X, y, test_size=0.2)  \n",
    "clf = tree.DecisionTreeClassifier()\n",
    "clf.fit(X_train, y_train)"
   ]
  },
  {
   "cell_type": "code",
   "execution_count": null,
   "metadata": {},
   "outputs": [],
   "source": [
    "y_pred = clf.predict(X_test)  \n",
    "print (y_pred)\n",
    "print (y_test)"
   ]
  },
  {
   "cell_type": "code",
   "execution_count": null,
   "metadata": {},
   "outputs": [],
   "source": [
    "import graphviz \n",
    "iris_data = tree.export_graphviz(clf, out_file=None,\n",
    "                                feature_names=X.columns.values,  \n",
    "                                class_names=['Iris-versicolor','Iris-virginica','Iris-setosa'],  \n",
    "                                filled=True, rounded=True,  \n",
    "                                special_characters=True)\n",
    "graph = graphviz.Source(iris_data) \n",
    "graph"
   ]
  },
  {
   "cell_type": "markdown",
   "metadata": {},
   "source": [
    "- If petal length is smaller than 2.45, it is Iris-setosa. \n",
    "- If petal is greater than 2.45 and petal width is less than 1.65 and petal length is less than 4.95 (but greater than 2.45), it is Iris virginica. \n",
    "- "
   ]
  },
  {
   "cell_type": "markdown",
   "metadata": {},
   "source": [
    "### Question:\n",
    "\n",
    "Import the titanic data set (`data/titatic.csv`), then build and visualize a decision tree using `gini` and `entropy` (one tree for each method) to classify the survival label (0 or 1). Make your decision about numerical conversion. Write down your narration for each decision tree. "
   ]
  },
  {
   "cell_type": "code",
   "execution_count": null,
   "metadata": {},
   "outputs": [],
   "source": []
  }
 ],
 "metadata": {
  "kernelspec": {
   "display_name": "Python 3",
   "language": "python",
   "name": "python3"
  },
  "language_info": {
   "codemirror_mode": {
    "name": "ipython",
    "version": 3
   },
   "file_extension": ".py",
   "mimetype": "text/x-python",
   "name": "python",
   "nbconvert_exporter": "python",
   "pygments_lexer": "ipython3",
   "version": "3.7.1"
  }
 },
 "nbformat": 4,
 "nbformat_minor": 2
}
